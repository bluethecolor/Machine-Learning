{
 "cells": [
  {
   "cell_type": "markdown",
   "metadata": {
    "id": "6dODO1oqW0on"
   },
   "source": [
    "## 유방암 데이터에 대한 로지스틱 회귀"
   ]
  },
  {
   "cell_type": "code",
   "execution_count": 63,
   "metadata": {
    "executionInfo": {
     "elapsed": 42,
     "status": "ok",
     "timestamp": 1632643920136,
     "user": {
      "displayName": "박영빈",
      "photoUrl": "https://lh3.googleusercontent.com/a/default-user=s64",
      "userId": "06406289282683365716"
     },
     "user_tz": -540
    },
    "id": "4S16xv493Fwv"
   },
   "outputs": [],
   "source": [
    "from sklearn.linear_model import LogisticRegression\n",
    "from sklearn.datasets import load_breast_cancer\n",
    "from sklearn.model_selection import train_test_split\n",
    "import warnings\n",
    "warnings.filterwarnings(\"ignore\")"
   ]
  },
  {
   "cell_type": "code",
   "execution_count": 64,
   "metadata": {
    "executionInfo": {
     "elapsed": 42,
     "status": "ok",
     "timestamp": 1632643920137,
     "user": {
      "displayName": "박영빈",
      "photoUrl": "https://lh3.googleusercontent.com/a/default-user=s64",
      "userId": "06406289282683365716"
     },
     "user_tz": -540
    },
    "id": "Zo443U7SS4xv"
   },
   "outputs": [],
   "source": [
    "x, y = load_breast_cancer(return_X_y=True)\n",
    "x_train, x_test, y_train, y_test = train_test_split(x, y)"
   ]
  },
  {
   "cell_type": "code",
   "execution_count": 65,
   "metadata": {
    "colab": {
     "base_uri": "https://localhost:8080/"
    },
    "executionInfo": {
     "elapsed": 41,
     "status": "ok",
     "timestamp": 1632643920137,
     "user": {
      "displayName": "박영빈",
      "photoUrl": "https://lh3.googleusercontent.com/a/default-user=s64",
      "userId": "06406289282683365716"
     },
     "user_tz": -540
    },
    "id": "yo7C3QaiS-DJ",
    "outputId": "7a2a7b78-3f5a-4946-c160-55a763a8a632"
   },
   "outputs": [
    {
     "data": {
      "text/plain": [
       "LogisticRegression(max_iter=3000)"
      ]
     },
     "execution_count": 65,
     "metadata": {},
     "output_type": "execute_result"
    }
   ],
   "source": [
    "model = LogisticRegression(max_iter=3000) # max_iter= 작업에 사용할 작업 수\n",
    "model.fit(x_train, y_train)"
   ]
  },
  {
   "cell_type": "code",
   "execution_count": 49,
   "metadata": {
    "colab": {
     "base_uri": "https://localhost:8080/"
    },
    "executionInfo": {
     "elapsed": 39,
     "status": "ok",
     "timestamp": 1632643920138,
     "user": {
      "displayName": "박영빈",
      "photoUrl": "https://lh3.googleusercontent.com/a/default-user=s64",
      "userId": "06406289282683365716"
     },
     "user_tz": -540
    },
    "id": "O1G0qfRQTcJu",
    "outputId": "d9987288-cad8-4f3e-bde1-29061a8a8683"
   },
   "outputs": [
    {
     "name": "stdout",
     "output_type": "stream",
     "text": [
      "Train Data Score: 0.9507042253521126\n",
      "Test Data Score: 0.951048951048951\n"
     ]
    }
   ],
   "source": [
    "print(f'Train Data Score: {model.score(x_train, y_train)}')\n",
    "print(f'Test Data Score: {model.score(x_test, y_test)}')"
   ]
  },
  {
   "attachments": {},
   "cell_type": "markdown",
   "metadata": {
    "id": "Cy_o5yb1VyBO"
   },
   "source": [
    "# 확률적 경사 하강법 (Stochastic Gradient Descent)\n",
    "\n",
    "- 모델을 학습 시키기 위한 간단한 방법\n",
    "- 학습 파라미터에 대한 손실 함수의 기울기를 구해 기울기가 최소화 되는 방향으로 학습\n",
    "\n",
    "\\begin{equation}\n",
    "\\frac{\\partial L}{\\partial w} = \\underset{h \\rightarrow 0}{lim} \\frac{L(w+h) - L(w)}{h}\n",
    "\\end{equation}\n",
    "\n",
    "\\begin{equation}\n",
    "w^{'} = w - \\alpha \\frac{\\partial L}{\\partial w}\n",
    "\\end{equation}\n",
    "\n",
    "* scikit-learn에서는 선형 SGD 회귀와 SGD 분류를 지원"
   ]
  },
  {
   "cell_type": "markdown",
   "metadata": {
    "id": "HQAuU643iO20"
   },
   "source": [
    "## SGD를 사용한 선형 회귀 분석"
   ]
  },
  {
   "cell_type": "code",
   "execution_count": 1,
   "metadata": {
    "executionInfo": {
     "elapsed": 36,
     "status": "ok",
     "timestamp": 1632643920139,
     "user": {
      "displayName": "박영빈",
      "photoUrl": "https://lh3.googleusercontent.com/a/default-user=s64",
      "userId": "06406289282683365716"
     },
     "user_tz": -540
    },
    "id": "rn0M7mK_T2KN"
   },
   "outputs": [],
   "source": [
    "from sklearn.linear_model import SGDRegressor\n",
    "from sklearn.datasets import load_boston\n",
    "from sklearn.model_selection import train_test_split\n",
    "from sklearn.preprocessing import StandardScaler\n",
    "from sklearn.pipeline import make_pipeline"
   ]
  },
  {
   "cell_type": "code",
   "execution_count": 2,
   "metadata": {
    "executionInfo": {
     "elapsed": 35,
     "status": "ok",
     "timestamp": 1632643920139,
     "user": {
      "displayName": "박영빈",
      "photoUrl": "https://lh3.googleusercontent.com/a/default-user=s64",
      "userId": "06406289282683365716"
     },
     "user_tz": -540
    },
    "id": "OkQs0HVl0ZjZ"
   },
   "outputs": [
    {
     "name": "stderr",
     "output_type": "stream",
     "text": [
      "/Users/leesangyup/opt/anaconda3/lib/python3.9/site-packages/sklearn/utils/deprecation.py:87: FutureWarning: Function load_boston is deprecated; `load_boston` is deprecated in 1.0 and will be removed in 1.2.\n",
      "\n",
      "    The Boston housing prices dataset has an ethical problem. You can refer to\n",
      "    the documentation of this function for further details.\n",
      "\n",
      "    The scikit-learn maintainers therefore strongly discourage the use of this\n",
      "    dataset unless the purpose of the code is to study and educate about\n",
      "    ethical issues in data science and machine learning.\n",
      "\n",
      "    In this special case, you can fetch the dataset from the original\n",
      "    source::\n",
      "\n",
      "        import pandas as pd\n",
      "        import numpy as np\n",
      "\n",
      "\n",
      "        data_url = \"http://lib.stat.cmu.edu/datasets/boston\"\n",
      "        raw_df = pd.read_csv(data_url, sep=\"\\s+\", skiprows=22, header=None)\n",
      "        data = np.hstack([raw_df.values[::2, :], raw_df.values[1::2, :2]])\n",
      "        target = raw_df.values[1::2, 2]\n",
      "\n",
      "    Alternative datasets include the California housing dataset (i.e.\n",
      "    :func:`~sklearn.datasets.fetch_california_housing`) and the Ames housing\n",
      "    dataset. You can load the datasets as follows::\n",
      "\n",
      "        from sklearn.datasets import fetch_california_housing\n",
      "        housing = fetch_california_housing()\n",
      "\n",
      "    for the California housing dataset and::\n",
      "\n",
      "        from sklearn.datasets import fetch_openml\n",
      "        housing = fetch_openml(name=\"house_prices\", as_frame=True)\n",
      "\n",
      "    for the Ames housing dataset.\n",
      "    \n",
      "  warnings.warn(msg, category=FutureWarning)\n"
     ]
    }
   ],
   "source": [
    "x, y = load_boston(return_X_y=True)\n",
    "x_train, x_test, y_train, y_test = train_test_split(x, y)"
   ]
  },
  {
   "cell_type": "code",
   "execution_count": 3,
   "metadata": {
    "colab": {
     "base_uri": "https://localhost:8080/"
    },
    "executionInfo": {
     "elapsed": 36,
     "status": "ok",
     "timestamp": 1632643920140,
     "user": {
      "displayName": "박영빈",
      "photoUrl": "https://lh3.googleusercontent.com/a/default-user=s64",
      "userId": "06406289282683365716"
     },
     "user_tz": -540
    },
    "id": "dBa0mReYnh70",
    "outputId": "576c55be-520b-42cc-d623-3fed0da54dfc"
   },
   "outputs": [
    {
     "name": "stderr",
     "output_type": "stream",
     "text": [
      "/Users/leesangyup/opt/anaconda3/lib/python3.9/site-packages/sklearn/linear_model/_stochastic_gradient.py:165: FutureWarning: The loss 'squared_loss' was deprecated in v1.0 and will be removed in version 1.2. Use `loss='squared_error'` which is equivalent.\n",
      "  warnings.warn(\n"
     ]
    },
    {
     "data": {
      "text/plain": [
       "Pipeline(steps=[('standardscaler', StandardScaler()),\n",
       "                ('sgdregressor', SGDRegressor(loss='squared_loss'))])"
      ]
     },
     "execution_count": 3,
     "metadata": {},
     "output_type": "execute_result"
    }
   ],
   "source": [
    "model = make_pipeline(StandardScaler(), # 평균 = 0, 분산 = 1인 정규분포로 만듬\n",
    "                      SGDRegressor(loss='squared_loss')) # 선형 회귀에서는 squared_loss를 주로 사용\n",
    "model.fit(x_train, y_train)"
   ]
  },
  {
   "cell_type": "code",
   "execution_count": 70,
   "metadata": {
    "colab": {
     "base_uri": "https://localhost:8080/"
    },
    "executionInfo": {
     "elapsed": 32,
     "status": "ok",
     "timestamp": 1632643920140,
     "user": {
      "displayName": "박영빈",
      "photoUrl": "https://lh3.googleusercontent.com/a/default-user=s64",
      "userId": "06406289282683365716"
     },
     "user_tz": -540
    },
    "id": "nIjXY5banLyb",
    "outputId": "e847f989-3628-4a39-8a14-a8b95b05e1de"
   },
   "outputs": [
    {
     "name": "stdout",
     "output_type": "stream",
     "text": [
      "Train Data Score: 0.7564036182465359\n",
      "Test Data Score: 0.6418914038562988\n"
     ]
    }
   ],
   "source": [
    "print(f'Train Data Score: {model.score(x_train, y_train)}')\n",
    "print(f'Test Data Score: {model.score(x_test, y_test)}')"
   ]
  },
  {
   "cell_type": "markdown",
   "metadata": {
    "id": "tAQNjLevhwZi"
   },
   "source": [
    "## 붓꽃 데이터에 대한 SGD 분류"
   ]
  },
  {
   "cell_type": "code",
   "execution_count": 58,
   "metadata": {
    "executionInfo": {
     "elapsed": 29,
     "status": "ok",
     "timestamp": 1632643920141,
     "user": {
      "displayName": "박영빈",
      "photoUrl": "https://lh3.googleusercontent.com/a/default-user=s64",
      "userId": "06406289282683365716"
     },
     "user_tz": -540
    },
    "id": "2D75AgxmZ6EO"
   },
   "outputs": [],
   "source": [
    "from sklearn.linear_model import SGDClassifier\n",
    "from sklearn.datasets import load_iris, load_breast_cancer\n",
    "from sklearn.model_selection import train_test_split\n",
    "from sklearn.preprocessing import StandardScaler\n",
    "from sklearn.pipeline import make_pipeline"
   ]
  },
  {
   "cell_type": "code",
   "execution_count": 71,
   "metadata": {
    "executionInfo": {
     "elapsed": 29,
     "status": "ok",
     "timestamp": 1632643920142,
     "user": {
      "displayName": "박영빈",
      "photoUrl": "https://lh3.googleusercontent.com/a/default-user=s64",
      "userId": "06406289282683365716"
     },
     "user_tz": -540
    },
    "id": "QP3A4jtUaRAj"
   },
   "outputs": [],
   "source": [
    "x, y = load_iris(return_X_y=True)\n",
    "x_train, x_test, y_train, y_test = train_test_split(x, y)"
   ]
  },
  {
   "cell_type": "code",
   "execution_count": 73,
   "metadata": {
    "colab": {
     "base_uri": "https://localhost:8080/"
    },
    "executionInfo": {
     "elapsed": 29,
     "status": "ok",
     "timestamp": 1632643920142,
     "user": {
      "displayName": "박영빈",
      "photoUrl": "https://lh3.googleusercontent.com/a/default-user=s64",
      "userId": "06406289282683365716"
     },
     "user_tz": -540
    },
    "id": "sx9KIPF_aav7",
    "outputId": "82377891-42b6-4f17-998f-d737705cf975"
   },
   "outputs": [
    {
     "data": {
      "text/plain": [
       "Pipeline(steps=[('standardscaler', StandardScaler()),\n",
       "                ('sgdclassifier', SGDClassifier(loss='log'))])"
      ]
     },
     "execution_count": 73,
     "metadata": {},
     "output_type": "execute_result"
    }
   ],
   "source": [
    "model = make_pipeline(StandardScaler(), SGDClassifier(loss='log')) # cross entropy = log)\n",
    "model.fit(x_train, y_train)"
   ]
  },
  {
   "cell_type": "code",
   "execution_count": 74,
   "metadata": {
    "colab": {
     "base_uri": "https://localhost:8080/"
    },
    "executionInfo": {
     "elapsed": 26,
     "status": "ok",
     "timestamp": 1632643920143,
     "user": {
      "displayName": "박영빈",
      "photoUrl": "https://lh3.googleusercontent.com/a/default-user=s64",
      "userId": "06406289282683365716"
     },
     "user_tz": -540
    },
    "id": "vJRp0HJZIZpu",
    "outputId": "416c4574-c49b-46ff-e094-064ca1d447b9"
   },
   "outputs": [
    {
     "name": "stdout",
     "output_type": "stream",
     "text": [
      "Train Data Score: 0.9107142857142857\n",
      "Test Data Score: 0.8421052631578947\n"
     ]
    }
   ],
   "source": [
    "print(f'Train Data Score: {model.score(x_train, y_train)}')\n",
    "print(f'Test Data Score: {model.score(x_test, y_test)}')"
   ]
  },
  {
   "cell_type": "markdown",
   "metadata": {
    "id": "iIhc6O0uicI5"
   },
   "source": [
    "## 유방암 데이터에 대한 SGD 분류"
   ]
  },
  {
   "cell_type": "code",
   "execution_count": 75,
   "metadata": {},
   "outputs": [],
   "source": [
    "from sklearn.datasets import load_breast_cancer"
   ]
  },
  {
   "cell_type": "code",
   "execution_count": 76,
   "metadata": {},
   "outputs": [],
   "source": [
    "x,y = load_breast_cancer(return_X_y=True)\n",
    "x_train, x_test, y_train, y_test = train_test_split(x, y)"
   ]
  },
  {
   "cell_type": "code",
   "execution_count": 77,
   "metadata": {},
   "outputs": [
    {
     "data": {
      "text/plain": [
       "Pipeline(steps=[('standardscaler', StandardScaler()),\n",
       "                ('sgdclassifier', SGDClassifier(loss='log'))])"
      ]
     },
     "execution_count": 77,
     "metadata": {},
     "output_type": "execute_result"
    }
   ],
   "source": [
    "model = make_pipeline(StandardScaler(), SGDClassifier(loss='log')) \n",
    "model.fit(x_train, y_train)"
   ]
  },
  {
   "cell_type": "code",
   "execution_count": 78,
   "metadata": {},
   "outputs": [
    {
     "name": "stdout",
     "output_type": "stream",
     "text": [
      "Train Data Score: 0.9765258215962441\n",
      "Test Data Score: 0.972027972027972\n"
     ]
    }
   ],
   "source": [
    "print(f'Train Data Score: {model.score(x_train, y_train)}')\n",
    "print(f'Test Data Score: {model.score(x_test, y_test)}')"
   ]
  },
  {
   "cell_type": "code",
   "execution_count": null,
   "metadata": {},
   "outputs": [],
   "source": []
  }
 ],
 "metadata": {
  "colab": {
   "collapsed_sections": [],
   "name": "4 로지스틱 회귀(Logistic Regression).ipynb",
   "provenance": [
    {
     "file_id": "19yh1SDvichat9wCC2_Dc1V4-fNpMeOJx",
     "timestamp": 1632561447380
    }
   ]
  },
  "kernelspec": {
   "display_name": "base",
   "language": "python",
   "name": "python3"
  },
  "language_info": {
   "codemirror_mode": {
    "name": "ipython",
    "version": 3
   },
   "file_extension": ".py",
   "mimetype": "text/x-python",
   "name": "python",
   "nbconvert_exporter": "python",
   "pygments_lexer": "ipython3",
   "version": "3.9.13"
  },
  "vscode": {
   "interpreter": {
    "hash": "30baee32c445b56b5bebd971439750611d62fad669ff493377e475030ea087db"
   }
  }
 },
 "nbformat": 4,
 "nbformat_minor": 4
}
