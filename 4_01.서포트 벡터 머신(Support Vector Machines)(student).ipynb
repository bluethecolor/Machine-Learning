{
 "cells": [
  {
   "cell_type": "markdown",
   "metadata": {
    "id": "g63soNOvFUSa"
   },
   "source": [
    "# 서포트 벡터 머신(Support Vector Machines)"
   ]
  },
  {
   "attachments": {},
   "cell_type": "markdown",
   "metadata": {
    "id": "Rrbp02Mk5CDA"
   },
   "source": [
    "- 회귀, 분류, 이상치 탐지 등에 사용되는 지도학습 방법\n",
    "- 클래스 사이의 경계에 위치한 데이터 포인트를 서포트 벡터(support vector)라고 한다.\n",
    "- 각 지지 벡터가 클래스 사이의 결정 경계를 구분하는데 얼마나 중요한지를 학습\n",
    "- 각 지지 벡터 사이의 마진이 가장 큰 방향으로 학습\n",
    "- 지지 벡터 까지의 거리와 지지 벡터의 중요도를 기반으로 예측을 수행\n",
    "\n",
    "![support vector machine](https://upload.wikimedia.org/wikipedia/commons/thumb/2/20/Svm_separating_hyperplanes.png/220px-Svm_separating_hyperplanes.png)\n",
    "\n",
    "- H3은 두 클래스의 점들을 제대로 분류하고 있지 않음\n",
    "- H1과 H2는 두 클래스의 점들을 분류하는데, H2가 H1보다 더 큰 마진을 갖고 분류하는 것을 확인할 수 있음"
   ]
  },
  {
   "cell_type": "code",
   "execution_count": 1,
   "metadata": {
    "executionInfo": {
     "elapsed": 317,
     "status": "ok",
     "timestamp": 1633168564916,
     "user": {
      "displayName": "박영빈",
      "photoUrl": "https://lh3.googleusercontent.com/a/default-user=s64",
      "userId": "06406289282683365716"
     },
     "user_tz": -540
    },
    "id": "zBilnkAn4_U3"
   },
   "outputs": [],
   "source": [
    "import multiprocessing\n",
    "import pandas as pd\n",
    "import numpy as np\n",
    "import matplotlib.pyplot as plt\n",
    "plt.style.use(['seaborn-whitegrid'])"
   ]
  },
  {
   "cell_type": "code",
   "execution_count": 2,
   "metadata": {
    "executionInfo": {
     "elapsed": 1588,
     "status": "ok",
     "timestamp": 1633168567127,
     "user": {
      "displayName": "박영빈",
      "photoUrl": "https://lh3.googleusercontent.com/a/default-user=s64",
      "userId": "06406289282683365716"
     },
     "user_tz": -540
    },
    "id": "1YRJRPy6hTe0"
   },
   "outputs": [],
   "source": [
    "from sklearn.svm import SVR, SVC # SVC classification, SVR regression\n",
    "from sklearn.datasets import load_boston, load_diabetes\n",
    "from sklearn.datasets import load_breast_cancer, load_iris, load_wine\n",
    "from sklearn.pipeline import make_pipeline, Pipeline\n",
    "from sklearn.model_selection import train_test_split, cross_val_score, GridSearchCV, cross_validate\n",
    "from sklearn.preprocessing import StandardScaler, MinMaxScaler\n",
    "from sklearn.manifold import TSNE # 원래 데이터를 2차원으로 축소, 주로 시각화에 활용된다.\n",
    "import warnings\n",
    "warnings.filterwarnings('ignore')"
   ]
  },
  {
   "cell_type": "markdown",
   "metadata": {
    "id": "UxS0mPsCh4l0"
   },
   "source": [
    "## SVM을 이용한 회귀 모델과 분류 모델"
   ]
  },
  {
   "cell_type": "markdown",
   "metadata": {
    "id": "NTtcx3p8wtNX"
   },
   "source": [
    "### SVM을 사용한 회귀 모델 (SVR)"
   ]
  },
  {
   "cell_type": "code",
   "execution_count": 10,
   "metadata": {
    "colab": {
     "base_uri": "https://localhost:8080/"
    },
    "executionInfo": {
     "elapsed": 64,
     "status": "ok",
     "timestamp": 1633168567132,
     "user": {
      "displayName": "박영빈",
      "photoUrl": "https://lh3.googleusercontent.com/a/default-user=s64",
      "userId": "06406289282683365716"
     },
     "user_tz": -540
    },
    "id": "sCrhSrMf5BqB",
    "outputId": "1b34b781-157d-469a-e09e-22b7965b4f59"
   },
   "outputs": [
    {
     "name": "stdout",
     "output_type": "stream",
     "text": [
      "Train Data Score: 0.2177283706374875\n",
      "Test Data Score: 0.13544178468518164\n"
     ]
    }
   ],
   "source": [
    "x, y = load_boston(return_X_y=True)\n",
    "x_train, x_test, y_train, y_test = train_test_split(x, y, random_state=123)\n",
    "\n",
    "model = SVR()\n",
    "model.fit(x_train, y_train)\n",
    "\n",
    "print(f'Train Data Score: {model.score(x_train, y_train)}')\n",
    "print(f'Test Data Score: {model.score(x_test, y_test)}')"
   ]
  },
  {
   "cell_type": "markdown",
   "metadata": {
    "id": "CQraX6MzwvtE"
   },
   "source": [
    "### SVM을 사용한 분류 모델 (SVC)"
   ]
  },
  {
   "cell_type": "code",
   "execution_count": 11,
   "metadata": {
    "colab": {
     "base_uri": "https://localhost:8080/"
    },
    "executionInfo": {
     "elapsed": 38,
     "status": "ok",
     "timestamp": 1633168567134,
     "user": {
      "displayName": "박영빈",
      "photoUrl": "https://lh3.googleusercontent.com/a/default-user=s64",
      "userId": "06406289282683365716"
     },
     "user_tz": -540
    },
    "id": "bnh5fS8gFbtK",
    "outputId": "b46bf5a9-97dc-4b7d-9b65-55886fae134b"
   },
   "outputs": [
    {
     "name": "stdout",
     "output_type": "stream",
     "text": [
      "Train Data Score: 0.9014084507042254\n",
      "Test Data Score: 0.9230769230769231\n"
     ]
    }
   ],
   "source": [
    "x, y = load_breast_cancer(return_X_y=True)\n",
    "x_train, x_test, y_train, y_test = train_test_split(x, y, random_state=123)\n",
    "\n",
    "model = SVC()\n",
    "model.fit(x_train, y_train)\n",
    "\n",
    "print(f'Train Data Score: {model.score(x_train, y_train)}')\n",
    "print(f'Test Data Score: {model.score(x_test, y_test)}')"
   ]
  },
  {
   "attachments": {},
   "cell_type": "markdown",
   "metadata": {
    "id": "zgd_dvKrGeFh"
   },
   "source": [
    "## 커널 기법\n",
    "\n",
    "- 입력 데이터를 고차원 공간에 사상해서 비선형 특징을 학습할 수 있도록 확장하는 방법\n",
    "- scikit-learn에서는 Linear, Polynomial, RBF(Radial Basis Function)등 다양한 커널 기법을 지원"
   ]
  },
  {
   "cell_type": "code",
   "execution_count": 11,
   "metadata": {},
   "outputs": [],
   "source": [
    "# load_boston 보스턴 집값"
   ]
  },
  {
   "cell_type": "code",
   "execution_count": 12,
   "metadata": {
    "colab": {
     "base_uri": "https://localhost:8080/"
    },
    "executionInfo": {
     "elapsed": 5441,
     "status": "ok",
     "timestamp": 1633168572554,
     "user": {
      "displayName": "박영빈",
      "photoUrl": "https://lh3.googleusercontent.com/a/default-user=s64",
      "userId": "06406289282683365716"
     },
     "user_tz": -540
    },
    "id": "Azq1UJtZF8sU",
    "outputId": "9972615e-868f-4ab1-d1a6-43bd463f6f12"
   },
   "outputs": [
    {
     "name": "stdout",
     "output_type": "stream",
     "text": [
      "Linear SVR Train Data Score: 0.715506552212211\n",
      "Linear SVR Test Data Score: 0.6380396318359647\n",
      "Polynomial SVR  Train Data Score: 0.2024454261446288\n",
      "Polynomial SVR Test Data Score: 0.13366845036746233\n",
      "RBF SVR Train Data Score: 0.2177283706374875\n",
      "RBF SVR Test Data Score: 0.13544178468518164\n"
     ]
    }
   ],
   "source": [
    "x, y = load_boston(return_X_y=True)\n",
    "x_train, x_test, y_train, y_test = train_test_split(x, y, random_state=123)\n",
    "\n",
    "linear_svr = SVR(kernel = 'linear')\n",
    "linear_svr.fit(x_train, y_train)\n",
    "\n",
    "print(f'Linear SVR Train Data Score: {linear_svr.score(x_train, y_train)}')\n",
    "print(f'Linear SVR Test Data Score: {linear_svr.score(x_test, y_test)}')\n",
    "\n",
    "polynomial_svr = SVR(kernel = 'poly')\n",
    "polynomial_svr.fit(x_train, y_train)\n",
    "\n",
    "print(f'Polynomial SVR  Train Data Score: {polynomial_svr.score(x_train, y_train)}')\n",
    "print(f'Polynomial SVR Test Data Score: {polynomial_svr.score(x_test, y_test)}')\n",
    "\n",
    "rbf_svr = SVR(kernel = 'rbf')\n",
    "rbf_svr.fit(x_train, y_train)\n",
    "\n",
    "print(f'RBF SVR Train Data Score: {rbf_svr.score(x_train, y_train)}')\n",
    "print(f'RBF SVR Test Data Score: {rbf_svr.score(x_test, y_test)}')"
   ]
  },
  {
   "cell_type": "code",
   "execution_count": 13,
   "metadata": {},
   "outputs": [
    {
     "name": "stdout",
     "output_type": "stream",
     "text": [
      "Linear SVR Train Data score : 0.2587946667423394\n",
      "Linear SVR Train Data score : 0.05441336442720124\n",
      "Polynomial SVR  Train Data Score: 0.5492121168675549\n",
      "Polynomial SVR Test Data Score: 0.3307672139413259\n",
      "RBF SVR Train Data Score: 0.7141833202421759\n",
      "RBF SVR Test Data Score: 0.7625209396028007\n"
     ]
    }
   ],
   "source": [
    "# 유방암 데이터를 이용한 분류\n",
    "# - 각 커널별로 유방암 데이터를 분류해보자. \n",
    "\n",
    "x, y = load_breast_cancer(return_X_y=True)\n",
    "x_train, x_test, y_train, y_test = train_test_split(x, y, random_state=123)\n",
    "\n",
    "linear_svr = SVR(kernel='linear')\n",
    "linear_svr.fit(x_train, y_train)\n",
    "\n",
    "print(f'Linear SVR Train Data score : {linear_svr.score(x_train,y_train)}')\n",
    "print(f'Linear SVR Train Data score : {linear_svr.score(x_test,y_test)}')\n",
    "\n",
    "polynomial_svr = SVR(kernel = 'poly')\n",
    "polynomial_svr.fit(x_train, y_train)\n",
    "\n",
    "print(f'Polynomial SVR  Train Data Score: {polynomial_svr.score(x_train, y_train)}')\n",
    "print(f'Polynomial SVR Test Data Score: {polynomial_svr.score(x_test, y_test)}')\n",
    "\n",
    "rbf_svr = SVR(kernel = 'rbf')\n",
    "rbf_svr.fit(x_train, y_train)\n",
    "\n",
    "print(f'RBF SVR Train Data Score: {rbf_svr.score(x_train, y_train)}')\n",
    "print(f'RBF SVR Test Data Score: {rbf_svr.score(x_test, y_test)}')\n",
    "\n",
    "\n"
   ]
  },
  {
   "attachments": {},
   "cell_type": "markdown",
   "metadata": {
    "id": "ysbUu5o3Lm2V"
   },
   "source": [
    "## 매개변수 튜닝\n",
    "\n",
    "- SVM은 사용하는 커널에 따라 다양한 매개변수 설정 가능\n",
    "- 매개변수를 변경하면서 성능변화를 관찰"
   ]
  },
  {
   "cell_type": "code",
   "execution_count": 22,
   "metadata": {
    "executionInfo": {
     "elapsed": 11,
     "status": "ok",
     "timestamp": 1633168573401,
     "user": {
      "displayName": "박영빈",
      "photoUrl": "https://lh3.googleusercontent.com/a/default-user=s64",
      "userId": "06406289282683365716"
     },
     "user_tz": -540
    },
    "id": "JyCxM4abOZyO"
   },
   "outputs": [],
   "source": [
    "x, y = load_breast_cancer(return_X_y=True)\n",
    "x_train, x_test, y_train, y_test = train_test_split(x, y, random_state=123)"
   ]
  },
  {
   "cell_type": "code",
   "execution_count": 24,
   "metadata": {
    "colab": {
     "base_uri": "https://localhost:8080/"
    },
    "executionInfo": {
     "elapsed": 29122,
     "status": "ok",
     "timestamp": 1633168602514,
     "user": {
      "displayName": "박영빈",
      "photoUrl": "https://lh3.googleusercontent.com/a/default-user=s64",
      "userId": "06406289282683365716"
     },
     "user_tz": -540
    },
    "id": "QN4BSxiaJspb",
    "outputId": "a129eb07-11f3-43e4-c361-27745dc1ccee"
   },
   "outputs": [
    {
     "name": "stdout",
     "output_type": "stream",
     "text": [
      "kernel=ploy, degree=2, C=0.1, gamma=auto\n",
      "Polynomial SVC Train Data Score: 0.9835680751173709\n",
      "Polynomial SVC Test Data Score: 0.993006993006993\n"
     ]
    }
   ],
   "source": [
    "polynomial_svc = SVC(kernel = 'poly', degree=2, C=0.1, gamma='auto')\n",
    "polynomial_svc.fit(x_train, y_train)\n",
    "\n",
    "print(f'kernel=ploy, degree={2}, C={0.1}, gamma={\"auto\"}')\n",
    "print(f'Polynomial SVC Train Data Score: {polynomial_svc.score(x_train, y_train)}')\n",
    "print(f'Polynomial SVC Test Data Score: {polynomial_svc.score(x_test, y_test)}')"
   ]
  },
  {
   "cell_type": "code",
   "execution_count": 28,
   "metadata": {
    "colab": {
     "base_uri": "https://localhost:8080/"
    },
    "executionInfo": {
     "elapsed": 69,
     "status": "ok",
     "timestamp": 1633168602516,
     "user": {
      "displayName": "박영빈",
      "photoUrl": "https://lh3.googleusercontent.com/a/default-user=s64",
      "userId": "06406289282683365716"
     },
     "user_tz": -540
    },
    "id": "P7hOhO1oOvVC",
    "outputId": "7311d81f-5940-42c2-8440-a6ff6d06da81"
   },
   "outputs": [
    {
     "name": "stdout",
     "output_type": "stream",
     "text": [
      "kernel=ploy, C=2.0, gamma=scale\n",
      "RBF SVC Train Data Score: 0.9154929577464789\n",
      "RBF SVC Test Data Score: 0.9370629370629371\n"
     ]
    }
   ],
   "source": [
    "rbf_svc = SVC(kernel = 'rbf', C=2.0, gamma='scale')\n",
    "rbf_svc.fit(x_train, y_train)\n",
    "\n",
    "print(f'kernel=ploy, C={2.0}, gamma={\"scale\"}')\n",
    "print(f'RBF SVC Train Data Score: {rbf_svc.score(x_train, y_train)}')\n",
    "print(f'RBF SVC Test Data Score: {rbf_svc.score(x_test, y_test)}')"
   ]
  },
  {
   "attachments": {},
   "cell_type": "markdown",
   "metadata": {
    "id": "aEQL8h8WU0An"
   },
   "source": [
    "## 데이터 전처리\n",
    "\n",
    "- SVM은 입력 데이터가 정규화 되어야 좋은 성능을 보임\n",
    "- 주로 모든 특성 값을 [0, 1] 범위로 맞추는 방법을 사용\n",
    "- scikit-learn의 StandardScaler 또는 MinMaxScaler를 사용해 정규화"
   ]
  },
  {
   "cell_type": "code",
   "execution_count": 29,
   "metadata": {},
   "outputs": [],
   "source": [
    "# 예 load_breast_cancer 데이터를 StandardScaler 를 이용해 정규화 하고 학습시켜보자\n",
    "# - Score 는?\n",
    "\n",
    "# model 생성\n",
    "# 그냥 학습 vs standardscaler로 데이터 변환 후 학습 vs minmax로 변환 후 학습\n",
    "x, y = load_breast_cancer(return_X_y=True)\n",
    "x_train, x_test, y_train, y_test = train_test_split(x, y, random_state=123)\n"
   ]
  },
  {
   "cell_type": "code",
   "execution_count": 30,
   "metadata": {},
   "outputs": [
    {
     "name": "stdout",
     "output_type": "stream",
     "text": [
      "SVC Train Data Score: 0.9014084507042254\n",
      "SVC Test Data Score: 0.9230769230769231\n"
     ]
    }
   ],
   "source": [
    "model = SVC()\n",
    "model.fit(x_train, y_train)\n",
    "\n",
    "print(f'SVC Train Data Score: {model.score(x_train, y_train)}')\n",
    "print(f'SVC Test Data Score: {model.score(x_test, y_test)}')"
   ]
  },
  {
   "cell_type": "code",
   "execution_count": 35,
   "metadata": {},
   "outputs": [
    {
     "name": "stdout",
     "output_type": "stream",
     "text": [
      "SVC Train Data Score: 0.9835680751173709\n",
      "SVC Test Data Score: 0.986013986013986\n"
     ]
    }
   ],
   "source": [
    "scaler = StandardScaler()\n",
    "X_train = scaler.fit_transform(x_train)\n",
    "X_test = scaler.fit_transform(x_test)\n",
    "\n",
    "model = SVC()\n",
    "model.fit(X_train, y_train)\n",
    "\n",
    "print(f'SVC Train Data Score: {model.score(X_train, y_train)}')\n",
    "print(f'SVC Test Data Score: {model.score(X_test, y_test)}')\n"
   ]
  },
  {
   "cell_type": "code",
   "execution_count": 36,
   "metadata": {},
   "outputs": [
    {
     "name": "stdout",
     "output_type": "stream",
     "text": [
      "SVC Train Data Score: 0.9812206572769953\n",
      "SVC Test Data Score: 0.9300699300699301\n"
     ]
    }
   ],
   "source": [
    "scaler = MinMaxScaler()\n",
    "X_train = scaler.fit_transform(x_train)\n",
    "X_test = scaler.fit_transform(x_test)\n",
    "\n",
    "model = SVC()\n",
    "model.fit(X_train, y_train)\n",
    "\n",
    "print(f'SVC Train Data Score: {model.score(X_train, y_train)}')\n",
    "print(f'SVC Test Data Score: {model.score(X_test, y_test)}')"
   ]
  }
 ],
 "metadata": {
  "colab": {
   "collapsed_sections": [],
   "name": "5 서포트 벡터 머신(Support Vector Machines).ipynb",
   "provenance": [
    {
     "file_id": "1tTbmeS0Bp0_NkFDsT1DvwvnRjkZUY9Yz",
     "timestamp": 1632747262302
    }
   ]
  },
  "kernelspec": {
   "display_name": "base",
   "language": "python",
   "name": "python3"
  },
  "language_info": {
   "codemirror_mode": {
    "name": "ipython",
    "version": 3
   },
   "file_extension": ".py",
   "mimetype": "text/x-python",
   "name": "python",
   "nbconvert_exporter": "python",
   "pygments_lexer": "ipython3",
   "version": "3.9.13"
  },
  "vscode": {
   "interpreter": {
    "hash": "30baee32c445b56b5bebd971439750611d62fad669ff493377e475030ea087db"
   }
  }
 },
 "nbformat": 4,
 "nbformat_minor": 4
}
