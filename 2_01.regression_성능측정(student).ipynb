{
  "cells": [
    {
      "attachments": {},
      "cell_type": "markdown",
      "metadata": {
        "id": "zxynTFaVH-Dg"
      },
      "source": [
        "#  Metirc\n",
        "- 모델 성능 평가지표\n",
        "- 실제값과 모델에 의해 예측된 값을 비교하여 모델의 성능을 측정\n",
        "- 모델 평가 목적\n",
        "    - 최적의 모델을 찾기 위해"
      ]
    },
    {
      "attachments": {},
      "cell_type": "markdown",
      "metadata": {},
      "source": [
        "- 회귀 문제 성능측정\n",
        "    - 실제값과 예측값의 차이를 측정"
      ]
    },
    {
      "cell_type": "markdown",
      "metadata": {
        "id": "bRHt3DlIJLS_"
      },
      "source": [
        "# 회귀 문제 성능측정"
      ]
    },
    {
      "attachments": {},
      "cell_type": "markdown",
      "metadata": {
        "id": "-jB5Vb-3JhQ3"
      },
      "source": [
        "## 당뇨병 진행 예측\n",
        "- 당뇨병 진행도를 예측하는 데이터셋"
      ]
    },
    {
      "cell_type": "code",
      "execution_count": 1,
      "metadata": {
        "colab": {
          "base_uri": "https://localhost:8080/"
        },
        "id": "ZzZItA4NJwku",
        "outputId": "e1ee86a4-5454-4ee9-8a08-94f71a532619"
      },
      "outputs": [
        {
          "data": {
            "text/plain": [
              "(array([[ 0.03807591,  0.05068012,  0.06169621, ..., -0.00259226,\n",
              "          0.01990842, -0.01764613],\n",
              "        [-0.00188202, -0.04464164, -0.05147406, ..., -0.03949338,\n",
              "         -0.06832974, -0.09220405],\n",
              "        [ 0.08529891,  0.05068012,  0.04445121, ..., -0.00259226,\n",
              "          0.00286377, -0.02593034],\n",
              "        ...,\n",
              "        [ 0.04170844,  0.05068012, -0.01590626, ..., -0.01107952,\n",
              "         -0.04687948,  0.01549073],\n",
              "        [-0.04547248, -0.04464164,  0.03906215, ...,  0.02655962,\n",
              "          0.04452837, -0.02593034],\n",
              "        [-0.04547248, -0.04464164, -0.0730303 , ..., -0.03949338,\n",
              "         -0.00421986,  0.00306441]]),\n",
              " array([151.,  75., 141., 206., 135.,  97., 138.,  63., 110., 310., 101.,\n",
              "         69., 179., 185., 118., 171., 166., 144.,  97., 168.,  68.,  49.,\n",
              "         68., 245., 184., 202., 137.,  85., 131., 283., 129.,  59., 341.,\n",
              "         87.,  65., 102., 265., 276., 252.,  90., 100.,  55.,  61.,  92.,\n",
              "        259.,  53., 190., 142.,  75., 142., 155., 225.,  59., 104., 182.,\n",
              "        128.,  52.,  37., 170., 170.,  61., 144.,  52., 128.,  71., 163.,\n",
              "        150.,  97., 160., 178.,  48., 270., 202., 111.,  85.,  42., 170.,\n",
              "        200., 252., 113., 143.,  51.,  52., 210.,  65., 141.,  55., 134.,\n",
              "         42., 111.,  98., 164.,  48.,  96.,  90., 162., 150., 279.,  92.,\n",
              "         83., 128., 102., 302., 198.,  95.,  53., 134., 144., 232.,  81.,\n",
              "        104.,  59., 246., 297., 258., 229., 275., 281., 179., 200., 200.,\n",
              "        173., 180.,  84., 121., 161.,  99., 109., 115., 268., 274., 158.,\n",
              "        107.,  83., 103., 272.,  85., 280., 336., 281., 118., 317., 235.,\n",
              "         60., 174., 259., 178., 128.,  96., 126., 288.,  88., 292.,  71.,\n",
              "        197., 186.,  25.,  84.,  96., 195.,  53., 217., 172., 131., 214.,\n",
              "         59.,  70., 220., 268., 152.,  47.,  74., 295., 101., 151., 127.,\n",
              "        237., 225.,  81., 151., 107.,  64., 138., 185., 265., 101., 137.,\n",
              "        143., 141.,  79., 292., 178.,  91., 116.,  86., 122.,  72., 129.,\n",
              "        142.,  90., 158.,  39., 196., 222., 277.,  99., 196., 202., 155.,\n",
              "         77., 191.,  70.,  73.,  49.,  65., 263., 248., 296., 214., 185.,\n",
              "         78.,  93., 252., 150.,  77., 208.,  77., 108., 160.,  53., 220.,\n",
              "        154., 259.,  90., 246., 124.,  67.,  72., 257., 262., 275., 177.,\n",
              "         71.,  47., 187., 125.,  78.,  51., 258., 215., 303., 243.,  91.,\n",
              "        150., 310., 153., 346.,  63.,  89.,  50.,  39., 103., 308., 116.,\n",
              "        145.,  74.,  45., 115., 264.,  87., 202., 127., 182., 241.,  66.,\n",
              "         94., 283.,  64., 102., 200., 265.,  94., 230., 181., 156., 233.,\n",
              "         60., 219.,  80.,  68., 332., 248.,  84., 200.,  55.,  85.,  89.,\n",
              "         31., 129.,  83., 275.,  65., 198., 236., 253., 124.,  44., 172.,\n",
              "        114., 142., 109., 180., 144., 163., 147.,  97., 220., 190., 109.,\n",
              "        191., 122., 230., 242., 248., 249., 192., 131., 237.,  78., 135.,\n",
              "        244., 199., 270., 164.,  72.,  96., 306.,  91., 214.,  95., 216.,\n",
              "        263., 178., 113., 200., 139., 139.,  88., 148.,  88., 243.,  71.,\n",
              "         77., 109., 272.,  60.,  54., 221.,  90., 311., 281., 182., 321.,\n",
              "         58., 262., 206., 233., 242., 123., 167.,  63., 197.,  71., 168.,\n",
              "        140., 217., 121., 235., 245.,  40.,  52., 104., 132.,  88.,  69.,\n",
              "        219.,  72., 201., 110.,  51., 277.,  63., 118.,  69., 273., 258.,\n",
              "         43., 198., 242., 232., 175.,  93., 168., 275., 293., 281.,  72.,\n",
              "        140., 189., 181., 209., 136., 261., 113., 131., 174., 257.,  55.,\n",
              "         84.,  42., 146., 212., 233.,  91., 111., 152., 120.,  67., 310.,\n",
              "         94., 183.,  66., 173.,  72.,  49.,  64.,  48., 178., 104., 132.,\n",
              "        220.,  57.]))"
            ]
          },
          "execution_count": 1,
          "metadata": {},
          "output_type": "execute_result"
        }
      ],
      "source": [
        "from sklearn.datasets import load_diabetes\n",
        "diabetes = load_diabetes()\n",
        "diabetes.data, diabetes.target"
      ]
    },
    {
      "cell_type": "code",
      "execution_count": 2,
      "metadata": {},
      "outputs": [],
      "source": [
        "data = diabetes.data\n",
        "target = diabetes.target"
      ]
    },
    {
      "cell_type": "code",
      "execution_count": 3,
      "metadata": {},
      "outputs": [
        {
          "data": {
            "text/plain": [
              "(442, 10)"
            ]
          },
          "execution_count": 3,
          "metadata": {},
          "output_type": "execute_result"
        }
      ],
      "source": [
        "data.shape  # 변수가 10개라 어떤 변수가 target을 판단할지 어려움이 있을 수도"
      ]
    },
    {
      "cell_type": "code",
      "execution_count": 4,
      "metadata": {},
      "outputs": [
        {
          "data": {
            "text/plain": [
              "(442,)"
            ]
          },
          "execution_count": 4,
          "metadata": {},
          "output_type": "execute_result"
        }
      ],
      "source": [
        "target.shape"
      ]
    },
    {
      "cell_type": "code",
      "execution_count": 4,
      "metadata": {},
      "outputs": [
        {
          "name": "stdout",
          "output_type": "stream",
          "text": [
            "25.0\n",
            "346.0\n"
          ]
        }
      ],
      "source": [
        "print(target.min())\n",
        "print(target.max())"
      ]
    },
    {
      "cell_type": "markdown",
      "metadata": {
        "id": "wY9EtUR6Jw9f"
      },
      "source": [
        "## 학습셋과 검증셋 분리"
      ]
    },
    {
      "cell_type": "code",
      "execution_count": 5,
      "metadata": {},
      "outputs": [],
      "source": [
        "from sklearn.model_selection import train_test_split\n",
        "x_train, x_vaild, y_train, y_vaild = train_test_split(data, target , test_size = 0.2)"
      ]
    },
    {
      "attachments": {},
      "cell_type": "markdown",
      "metadata": {
        "id": "MATRDq0NJxEF"
      },
      "source": [
        "## Linear Regression 모델을 이용한 학습 및 예측\n",
        "$$\n",
        "y = w_1 x_1 + ... + w_{10} x_{10} + w_0\n",
        "$$\n",
        "\n",
        "- w : 가중치\n",
        "- b : 편향"
      ]
    },
    {
      "cell_type": "code",
      "execution_count": 6,
      "metadata": {
        "colab": {
          "base_uri": "https://localhost:8080/"
        },
        "id": "3iRy7SpBJxG-",
        "outputId": "83ac220e-d56c-426e-95af-0f4944b121ae"
      },
      "outputs": [],
      "source": [
        "from sklearn.linear_model import LinearRegression\n",
        "model = LinearRegression()"
      ]
    },
    {
      "cell_type": "code",
      "execution_count": 7,
      "metadata": {},
      "outputs": [
        {
          "data": {
            "text/plain": [
              "LinearRegression()"
            ]
          },
          "execution_count": 7,
          "metadata": {},
          "output_type": "execute_result"
        }
      ],
      "source": [
        "model.fit(x_train, y_train)"
      ]
    },
    {
      "cell_type": "code",
      "execution_count": 8,
      "metadata": {},
      "outputs": [],
      "source": [
        "y_vaild_predict = model.predict(x_vaild)"
      ]
    },
    {
      "cell_type": "code",
      "execution_count": 9,
      "metadata": {},
      "outputs": [
        {
          "data": {
            "text/plain": [
              "array([ 89.43624498, 256.79376935, 136.53118437, 104.56291872,\n",
              "       147.94346412,  80.66477089, 183.35047974, 118.28332862,\n",
              "       129.08505622, 246.99304407, 119.46574214, 195.63084321,\n",
              "       154.39294132, 102.75522787, 214.86999593,  55.26310482,\n",
              "       239.43598509,  98.82269936, 189.14759644, 138.96412718,\n",
              "       143.21598892, 124.10946802,  72.79113197, 243.24058658,\n",
              "       288.93308878, 144.46772746, 200.48315863, 182.96562639,\n",
              "       251.40443542, 192.3777655 , 103.87416875, 177.04122932,\n",
              "       208.01538237, 261.96604481, 174.86382863, 174.7250261 ,\n",
              "       117.9304046 , 174.36744168, 172.3180998 , 120.44622645,\n",
              "       138.49406659, 128.74272537,  61.09498791,  87.12615264,\n",
              "       156.1483333 ,  64.11743532,  70.47778329,  69.61209746,\n",
              "        73.2568742 , 109.44054327,  94.31189813, 140.41244611,\n",
              "       129.55148038, 154.59218544, 229.58627615, 190.82388193,\n",
              "       164.40984913, 116.35815425, 122.12236064, 164.07334083,\n",
              "       114.93858667, 209.09904092, 158.90139378, 167.19263734,\n",
              "       122.45905395, 216.70901104, 107.92074267, 261.28280955,\n",
              "       191.32516504,  82.09585856, 158.52953546, 183.51091926,\n",
              "        69.71149078, 197.39431334, 120.43649729, 172.53763496,\n",
              "       158.79837818, 163.79993332, 144.30484903, 149.78360981,\n",
              "       111.39349332, 147.26465511, 147.97478988, 179.39437761,\n",
              "       121.64775416, 161.79859944, 261.44584037,  82.54307086,\n",
              "       118.4902133 ])"
            ]
          },
          "execution_count": 9,
          "metadata": {},
          "output_type": "execute_result"
        }
      ],
      "source": [
        "y_vaild_predict"
      ]
    },
    {
      "cell_type": "markdown",
      "metadata": {
        "id": "MmBGluARJxKF"
      },
      "source": [
        "## 회귀 평가 지표\n"
      ]
    },
    {
      "attachments": {},
      "cell_type": "markdown",
      "metadata": {
        "id": "sw3AXM2PJxMu"
      },
      "source": [
        "### MSE(Mean Squared Error)\n",
        "$$\n",
        "MSE = \\frac{1}{n}{\\sum_{i=1}^{n}(y_i-\\hat{y}_i)^2}\n",
        "$$\n",
        "- 실제값과 예측값의 차이를 제곱해서 평균화\n",
        "- 이상치에 민감 (제곱된거 때문에)\n",
        "- 직관적이지 못하다.\n",
        "- 손실함수로 주로 사용한다."
      ]
    },
    {
      "cell_type": "code",
      "execution_count": 10,
      "metadata": {
        "colab": {
          "base_uri": "https://localhost:8080/"
        },
        "id": "_bWuiAQiOwhu",
        "outputId": "9ee67b79-4271-45d1-aeab-1c814c212913"
      },
      "outputs": [
        {
          "name": "stdout",
          "output_type": "stream",
          "text": [
            "3086.6859878134464\n"
          ]
        }
      ],
      "source": [
        "from sklearn.metrics import mean_squared_error\n",
        "mse = mean_squared_error(y_vaild_predict, y_vaild)\n",
        "print(mse)"
      ]
    },
    {
      "cell_type": "markdown",
      "metadata": {
        "id": "MFBJykWgJxPA"
      },
      "source": [
        "### RMSE(Root Mean Squared Error)\n",
        "$$\n",
        "RMSE = \\sqrt{\\frac{1}{n}{\\sum_{i=1}^{n}(y_i-\\hat{y}_i)^2}}\n",
        "$$\n",
        "- MSE에 루트\n",
        "- 이상치 민감\n"
      ]
    },
    {
      "cell_type": "code",
      "execution_count": 11,
      "metadata": {
        "colab": {
          "base_uri": "https://localhost:8080/"
        },
        "id": "mwJb8aQGPIp5",
        "outputId": "37268926-932e-40ad-8fe4-39b4d1d43077"
      },
      "outputs": [
        {
          "name": "stdout",
          "output_type": "stream",
          "text": [
            "55.557951616428824\n",
            "55.557951616428824\n"
          ]
        }
      ],
      "source": [
        "\n",
        "# 방법1\n",
        "import numpy as np\n",
        "print(np.sqrt(mse))\n",
        "\n",
        "# 방법2\n",
        "# https://scikit-learn.org/stable/modules/generated/sklearn.metrics.mean_squared_error.html\n",
        "rmse = mean_squared_error(y_vaild_predict, y_vaild, squared=False)\n",
        "print(rmse)"
      ]
    },
    {
      "cell_type": "markdown",
      "metadata": {
        "id": "bFZvZV8qJxQ-"
      },
      "source": [
        "### MAE(Mean Absolute Error)\n",
        "$$\n",
        "MAE = \\frac{1}{n}{\\sum_{i=1}^{n}|y_i-\\hat{y}_i|}\n",
        "$$\n",
        "- 실제값과 예측값의 차이를 절대값으로 변환해서 평균화\n",
        "- 직관적이다."
      ]
    },
    {
      "cell_type": "code",
      "execution_count": 12,
      "metadata": {
        "colab": {
          "base_uri": "https://localhost:8080/"
        },
        "id": "yUs37l6AJxTe",
        "outputId": "c93314fc-2890-4fe2-a390-6eb17eeab625"
      },
      "outputs": [
        {
          "data": {
            "text/plain": [
              "46.301768446369095"
            ]
          },
          "execution_count": 12,
          "metadata": {},
          "output_type": "execute_result"
        }
      ],
      "source": [
        "from sklearn.metrics import mean_absolute_error\n",
        "mae = mean_absolute_error(y_vaild_predict, y_vaild,)\n",
        "mae"
      ]
    },
    {
      "cell_type": "markdown",
      "metadata": {
        "id": "aEY4Rv2uJxVN"
      },
      "source": [
        "### MAPE (Mean Absolute Percentage Error)\n",
        "$$\n",
        "MAPE = \\frac{100}{n}{\\sum_{i=1}^{n}\\frac{|y_i-\\hat{y}_i|}{y_i}}\n",
        "$$\n",
        "- 실제값에 대한 절대오차 비율의 평균을 퍼센트로 표현"
      ]
    },
    {
      "cell_type": "code",
      "execution_count": 13,
      "metadata": {
        "colab": {
          "base_uri": "https://localhost:8080/"
        },
        "id": "dNRj-Y6XJxXF",
        "outputId": "c349c648-1303-4f60-f434-cfc3d1fe56ee"
      },
      "outputs": [
        {
          "name": "stdout",
          "output_type": "stream",
          "text": [
            "0.3259607376767888\n"
          ]
        },
        {
          "data": {
            "text/plain": [
              "0.3259607376767888"
            ]
          },
          "execution_count": 13,
          "metadata": {},
          "output_type": "execute_result"
        }
      ],
      "source": [
        "\n",
        "# 방법1\n",
        "def mape(true,pred):\n",
        "   return np.mean(np.abs((true - pred) / true))\n",
        "print(mape(y_vaild_predict, y_vaild))\n",
        "\n",
        "# 방법2\n",
        "from sklearn.metrics import mean_absolute_percentage_error\n",
        "mean_absolute_percentage_error(y_vaild_predict, y_vaild)"
      ]
    },
    {
      "cell_type": "markdown",
      "metadata": {
        "id": "TVHO-5UZRMgj"
      },
      "source": [
        "### SMAPE (Symmetric Mean Absolute Percentage Error)\n",
        "$$\n",
        "SMAPE = \\frac{100}{n}{\\sum_{i=1}^{n}\\frac{|y_i-\\hat{y_i}|}{{|y_i|}+|\\hat{y_i}|}}\n",
        "$$\n",
        "- 기존 mape의 단점을 보완한것\n",
        "- MAPE와 다른점은 각 실제값과 예측값을 절대값으로 변경후 핪으로 나눈다.\n",
        "- MAPE와 다르게 실제값에 0이 존재해도 계산이 가능하다.\n",
        "- 실제값보다 예측값이 크거나 작을수도있다.\n",
        "- 예측값이 실제값보다 작을때, 분모가 작아지기 때문에 오차가 커지게 된다. (과소추정에 대한 패널티가 줄수가 있다.)\n"
      ]
    },
    {
      "cell_type": "code",
      "execution_count": 14,
      "metadata": {
        "colab": {
          "base_uri": "https://localhost:8080/"
        },
        "id": "2Av88hkiOJDH",
        "outputId": "abea15ff-06a8-4b99-82e4-0663d5d8049d"
      },
      "outputs": [
        {
          "data": {
            "text/plain": [
              "0.1666054247831908"
            ]
          },
          "execution_count": 14,
          "metadata": {},
          "output_type": "execute_result"
        }
      ],
      "source": [
        "def smape(true,pred):\n",
        "   error =  np.abs(true - pred) / (np.abs(true) + np.abs(pred))\n",
        "   return np.mean(error)\n",
        "smape(y_vaild_predict, y_vaild)"
      ]
    },
    {
      "cell_type": "markdown",
      "metadata": {},
      "source": [
        "### 결정계수 R2 \n",
        "- 결정계수는 실제 관측값의 분산대비 예측값의 분산을 계산하여 데이터 예측의 정확도 성능을 측정하는 지표 \n",
        "- 0~1까지 수로 나타내어지며 1에 가까울수록 100%의 설명력을 가진 모델이라고 평가를 하게된다.\n",
        "- R^2 =1 : 현재 가지고 있는 X변수로 Y를 100% 설명. 즉, 모든 관측치가 회귀직선에 있다.\n",
        "- R^2 = 0 : 현재 가지고 있는 X변수는 Y 설명(예측)에 전혀 도움이 되지 않는다\n",
        "- 사용하고 있는 X변수의 품질\n",
        "\n",
        "\n",
        "$$\n",
        "R^2 = \\frac{SSR}{SST} =\\frac{오차^2}{편차^2} =  1- \\frac{SSE}{SST}\n",
        "$$\n",
        "\n",
        "- SST (Sum of Squared Total): 관측치 - 예측값\n",
        "- SSE (Sum of Squared Error): 관측값 - 예측값, 즉 잔차제곱합 RSS와 같은 의미이다.\n",
        "- SSR (Sum of Squares due to Regression): 예측값 - 평균값"
      ]
    },
    {
      "cell_type": "code",
      "execution_count": 15,
      "metadata": {},
      "outputs": [
        {
          "data": {
            "text/plain": [
              "0.5218301593639314"
            ]
          },
          "execution_count": 15,
          "metadata": {},
          "output_type": "execute_result"
        }
      ],
      "source": [
        "from sklearn.metrics import r2_score\n",
        "r2_score(y_vaild, y_vaild_predict)"
      ]
    },
    {
      "cell_type": "code",
      "execution_count": null,
      "metadata": {},
      "outputs": [],
      "source": []
    }
  ],
  "metadata": {
    "colab": {
      "authorship_tag": "ABX9TyPb6j6c7xeD+dvm4fIfcb2b",
      "include_colab_link": true,
      "provenance": []
    },
    "kernelspec": {
      "display_name": "base",
      "language": "python",
      "name": "python3"
    },
    "language_info": {
      "codemirror_mode": {
        "name": "ipython",
        "version": 3
      },
      "file_extension": ".py",
      "mimetype": "text/x-python",
      "name": "python",
      "nbconvert_exporter": "python",
      "pygments_lexer": "ipython3",
      "version": "3.9.13"
    },
    "vscode": {
      "interpreter": {
        "hash": "30baee32c445b56b5bebd971439750611d62fad669ff493377e475030ea087db"
      }
    }
  },
  "nbformat": 4,
  "nbformat_minor": 0
}
