{
 "cells": [
  {
   "attachments": {},
   "cell_type": "markdown",
   "metadata": {
    "id": "b2MQEkXAYQeB"
   },
   "source": [
    "# 앙상블(Ensemble)"
   ]
  },
  {
   "attachments": {},
   "cell_type": "markdown",
   "metadata": {
    "id": "nT_iMqd0do5N"
   },
   "source": [
    "## Bagging meta-estimator"
   ]
  },
  {
   "cell_type": "code",
   "execution_count": 5,
   "metadata": {},
   "outputs": [],
   "source": [
    "import warnings\n",
    "warnings.filterwarnings(\"ignore\")"
   ]
  },
  {
   "cell_type": "code",
   "execution_count": null,
   "metadata": {},
   "outputs": [],
   "source": []
  },
  {
   "cell_type": "code",
   "execution_count": 6,
   "metadata": {
    "executionInfo": {
     "elapsed": 879,
     "status": "ok",
     "timestamp": 1633924956160,
     "user": {
      "displayName": "박영빈",
      "photoUrl": "https://lh3.googleusercontent.com/a/default-user=s64",
      "userId": "06406289282683365716"
     },
     "user_tz": -540
    },
    "id": "DeBq-DEl4Mxc"
   },
   "outputs": [],
   "source": [
    "from sklearn.datasets import load_iris, load_wine, load_breast_cancer, load_boston\n",
    "from sklearn.datasets import load_diabetes\n",
    "from sklearn.preprocessing import StandardScaler\n",
    "from sklearn.pipeline import make_pipeline\n",
    "from sklearn.model_selection import cross_validate"
   ]
  },
  {
   "cell_type": "code",
   "execution_count": 7,
   "metadata": {
    "executionInfo": {
     "elapsed": 292,
     "status": "ok",
     "timestamp": 1633924956440,
     "user": {
      "displayName": "박영빈",
      "photoUrl": "https://lh3.googleusercontent.com/a/default-user=s64",
      "userId": "06406289282683365716"
     },
     "user_tz": -540
    },
    "id": "_YiLsIpwMGAf"
   },
   "outputs": [],
   "source": [
    "from sklearn.ensemble import BaggingClassifier\n",
    "from sklearn.neighbors import KNeighborsClassifier\n",
    "from sklearn.svm import SVC\n",
    "from sklearn.tree import DecisionTreeClassifier"
   ]
  },
  {
   "cell_type": "code",
   "execution_count": 8,
   "metadata": {
    "executionInfo": {
     "elapsed": 8,
     "status": "ok",
     "timestamp": 1633924956442,
     "user": {
      "displayName": "박영빈",
      "photoUrl": "https://lh3.googleusercontent.com/a/default-user=s64",
      "userId": "06406289282683365716"
     },
     "user_tz": -540
    },
    "id": "sJK4QMLlYN3G"
   },
   "outputs": [],
   "source": [
    "from sklearn.ensemble import BaggingRegressor\n",
    "from sklearn.neighbors import KNeighborsRegressor\n",
    "from sklearn.svm import SVR\n",
    "from sklearn.tree import DecisionTreeRegressor"
   ]
  },
  {
   "cell_type": "markdown",
   "metadata": {
    "id": "bnC_CfiDf3kC"
   },
   "source": [
    "### Bagging을 사용한 분류"
   ]
  },
  {
   "attachments": {},
   "cell_type": "markdown",
   "metadata": {},
   "source": [
    "```\n",
    "hp = {\n",
    "    \"random_state\" : SEED,\n",
    "    \"base_estimator\" : base_model, #basse로 사용할 Model \n",
    "    \"n_estimators\": 100, # base_estimator  개수\n",
    "    \"max_features\":0.5 # 추출할 샘플 비율,\n",
    "    \"bootstrap_features\": Flase # 중복추출 허용\n",
    "}\n",
    "```"
   ]
  },
  {
   "cell_type": "markdown",
   "metadata": {
    "id": "yw2FY84r4zQR"
   },
   "source": [
    "#### 데이터셋 불러오기"
   ]
  },
  {
   "cell_type": "code",
   "execution_count": 9,
   "metadata": {
    "executionInfo": {
     "elapsed": 7,
     "status": "ok",
     "timestamp": 1633924956442,
     "user": {
      "displayName": "박영빈",
      "photoUrl": "https://lh3.googleusercontent.com/a/default-user=s64",
      "userId": "06406289282683365716"
     },
     "user_tz": -540
    },
    "id": "6DlynlPmf-3Y"
   },
   "outputs": [],
   "source": [
    "iris = load_iris()\n",
    "wine = load_wine()\n",
    "cancer = load_breast_cancer()"
   ]
  },
  {
   "attachments": {},
   "cell_type": "markdown",
   "metadata": {
    "id": "9XzfsGdL4_YF"
   },
   "source": [
    "#### KNN + Bagging"
   ]
  },
  {
   "cell_type": "markdown",
   "metadata": {
    "id": "h5TYJLtQ8k70"
   },
   "source": [
    "##### 붓꽃 데이터"
   ]
  },
  {
   "cell_type": "code",
   "execution_count": 10,
   "metadata": {
    "executionInfo": {
     "elapsed": 7,
     "status": "ok",
     "timestamp": 1633924956443,
     "user": {
      "displayName": "박영빈",
      "photoUrl": "https://lh3.googleusercontent.com/a/default-user=s64",
      "userId": "06406289282683365716"
     },
     "user_tz": -540
    },
    "id": "H3iZQyWnOZEK"
   },
   "outputs": [],
   "source": [
    "base_model = make_pipeline(\n",
    "    StandardScaler(),\n",
    "    KNeighborsClassifier()\n",
    ")\n",
    "\n",
    "bagging_model = BaggingClassifier(base_model, n_estimators=10, max_samples=.5, max_features=.5)"
   ]
  },
  {
   "cell_type": "code",
   "execution_count": 11,
   "metadata": {
    "colab": {
     "base_uri": "https://localhost:8080/"
    },
    "executionInfo": {
     "elapsed": 20,
     "status": "ok",
     "timestamp": 1633924957070,
     "user": {
      "displayName": "박영빈",
      "photoUrl": "https://lh3.googleusercontent.com/a/default-user=s64",
      "userId": "06406289282683365716"
     },
     "user_tz": -540
    },
    "id": "m-fGDZoD52eY",
    "outputId": "ce733453-b805-470a-8588-a8f6e3228737"
   },
   "outputs": [
    {
     "name": "stdout",
     "output_type": "stream",
     "text": [
      "avg fit time: 0.0007380485534667969\n",
      "avg score time: 0.001226186752319336\n",
      "avg test score: 0.96\n"
     ]
    }
   ],
   "source": [
    "cross_val = cross_validate(\n",
    "    estimator = base_model,\n",
    "    X=iris.data, y = iris.target,\n",
    "    cv=5\n",
    ")\n",
    "print(f\"avg fit time: {cross_val['fit_time'].mean()}\")\n",
    "print(f\"avg score time: {cross_val['score_time'].mean()}\")\n",
    "print(f\"avg test score: {cross_val['test_score'].mean()}\")"
   ]
  },
  {
   "cell_type": "code",
   "execution_count": 12,
   "metadata": {
    "colab": {
     "base_uri": "https://localhost:8080/"
    },
    "executionInfo": {
     "elapsed": 632,
     "status": "ok",
     "timestamp": 1633924957069,
     "user": {
      "displayName": "박영빈",
      "photoUrl": "https://lh3.googleusercontent.com/a/default-user=s64",
      "userId": "06406289282683365716"
     },
     "user_tz": -540
    },
    "id": "j8UhV67NgiC0",
    "outputId": "be57bd95-6d46-4d69-fb5a-96f0453180a2"
   },
   "outputs": [
    {
     "name": "stdout",
     "output_type": "stream",
     "text": [
      "avg fit time: 0.010591745376586914\n",
      "avg score time: 0.003740692138671875\n",
      "avg test score: 0.9399999999999998\n"
     ]
    }
   ],
   "source": [
    "cross_val = cross_validate(\n",
    "    estimator = bagging_model,\n",
    "    X=iris.data, y = iris.target,\n",
    "    cv=5\n",
    ")\n",
    "print(f\"avg fit time: {cross_val['fit_time'].mean()}\")\n",
    "print(f\"avg score time: {cross_val['score_time'].mean()}\")\n",
    "print(f\"avg test score: {cross_val['test_score'].mean()}\")"
   ]
  },
  {
   "cell_type": "markdown",
   "metadata": {
    "id": "aake5r8-_FLh"
   },
   "source": [
    "##### 와인 데이터"
   ]
  },
  {
   "cell_type": "code",
   "execution_count": null,
   "metadata": {},
   "outputs": [],
   "source": []
  },
  {
   "cell_type": "markdown",
   "metadata": {
    "id": "iPKP6KIy8nso"
   },
   "source": [
    "##### 유방암 데이터"
   ]
  },
  {
   "cell_type": "code",
   "execution_count": null,
   "metadata": {},
   "outputs": [],
   "source": []
  },
  {
   "attachments": {},
   "cell_type": "markdown",
   "metadata": {
    "id": "c6cXnxEZ90NR"
   },
   "source": [
    "#### SVC + Bagging"
   ]
  },
  {
   "cell_type": "markdown",
   "metadata": {
    "id": "yFolvlY393Pv"
   },
   "source": [
    "##### 붓꽃 데이터"
   ]
  },
  {
   "cell_type": "code",
   "execution_count": 15,
   "metadata": {
    "executionInfo": {
     "elapsed": 3,
     "status": "ok",
     "timestamp": 1633924972829,
     "user": {
      "displayName": "박영빈",
      "photoUrl": "https://lh3.googleusercontent.com/a/default-user=s64",
      "userId": "06406289282683365716"
     },
     "user_tz": -540
    },
    "id": "p8sUZEe798Wn"
   },
   "outputs": [],
   "source": [
    "base_model = make_pipeline(\n",
    "    StandardScaler(),\n",
    "    SVC()\n",
    ")\n",
    "\n",
    "bagging_model = BaggingClassifier(base_model, n_estimators=10, max_samples=.5, max_features=.5)"
   ]
  },
  {
   "cell_type": "code",
   "execution_count": 16,
   "metadata": {
    "colab": {
     "base_uri": "https://localhost:8080/"
    },
    "executionInfo": {
     "elapsed": 21,
     "status": "ok",
     "timestamp": 1633924973609,
     "user": {
      "displayName": "박영빈",
      "photoUrl": "https://lh3.googleusercontent.com/a/default-user=s64",
      "userId": "06406289282683365716"
     },
     "user_tz": -540
    },
    "id": "1vvBGk8WQVho",
    "outputId": "588deec9-65a2-49bb-edd3-357eeb5b7fae"
   },
   "outputs": [
    {
     "name": "stdout",
     "output_type": "stream",
     "text": [
      "avg fit time: 0.004051017761230469\n",
      "avg score time: 0.00196075439453125\n",
      "avg test score: 0.9666666666666666\n"
     ]
    }
   ],
   "source": [
    "cross_val = cross_validate(\n",
    "    estimator = base_model,\n",
    "    X=iris.data, y = iris.target,\n",
    "    cv=5\n",
    ")\n",
    "print(f\"avg fit time: {cross_val['fit_time'].mean()}\")\n",
    "print(f\"avg score time: {cross_val['score_time'].mean()}\")\n",
    "print(f\"avg test score: {cross_val['test_score'].mean()}\")"
   ]
  },
  {
   "cell_type": "code",
   "execution_count": 17,
   "metadata": {
    "colab": {
     "base_uri": "https://localhost:8080/"
    },
    "executionInfo": {
     "elapsed": 516,
     "status": "ok",
     "timestamp": 1633924975682,
     "user": {
      "displayName": "박영빈",
      "photoUrl": "https://lh3.googleusercontent.com/a/default-user=s64",
      "userId": "06406289282683365716"
     },
     "user_tz": -540
    },
    "id": "f2MTk_xcQVh0",
    "outputId": "e5acf856-69b6-4300-d037-519e02610b79"
   },
   "outputs": [
    {
     "name": "stdout",
     "output_type": "stream",
     "text": [
      "avg fit time: 0.04377059936523438\n",
      "avg score time: 0.004355716705322266\n",
      "avg test score: 0.96\n"
     ]
    }
   ],
   "source": [
    "\n",
    "cross_val = cross_validate(\n",
    "    estimator = bagging_model,\n",
    "    X=iris.data, y = iris.target,\n",
    "    cv=5\n",
    ")\n",
    "print(f\"avg fit time: {cross_val['fit_time'].mean()}\")\n",
    "print(f\"avg score time: {cross_val['score_time'].mean()}\")\n",
    "print(f\"avg test score: {cross_val['test_score'].mean()}\")"
   ]
  },
  {
   "cell_type": "markdown",
   "metadata": {
    "id": "BAVcL_DG_HgP"
   },
   "source": [
    "##### 와인 데이터"
   ]
  },
  {
   "cell_type": "code",
   "execution_count": null,
   "metadata": {},
   "outputs": [],
   "source": []
  },
  {
   "cell_type": "markdown",
   "metadata": {
    "id": "59r3mE7H92wX"
   },
   "source": [
    "##### 유방암 데이터"
   ]
  },
  {
   "cell_type": "code",
   "execution_count": null,
   "metadata": {},
   "outputs": [],
   "source": []
  },
  {
   "attachments": {},
   "cell_type": "markdown",
   "metadata": {
    "id": "Gtpz-2Ly-gF2"
   },
   "source": [
    "#### Decision Tree + Bagging"
   ]
  },
  {
   "cell_type": "markdown",
   "metadata": {
    "id": "3A4T9Bv--jF-"
   },
   "source": [
    "##### 붓꽃 데이터"
   ]
  },
  {
   "cell_type": "code",
   "execution_count": 24,
   "metadata": {
    "executionInfo": {
     "elapsed": 359,
     "status": "ok",
     "timestamp": 1633924989781,
     "user": {
      "displayName": "박영빈",
      "photoUrl": "https://lh3.googleusercontent.com/a/default-user=s64",
      "userId": "06406289282683365716"
     },
     "user_tz": -540
    },
    "id": "hZUIkgbNQv29"
   },
   "outputs": [],
   "source": [
    "base_model = make_pipeline(\n",
    "    StandardScaler(),\n",
    "    DecisionTreeClassifier()\n",
    ")\n",
    "\n",
    "bagging_model = BaggingClassifier(base_model, n_estimators=10, max_samples=.5, max_features=.5)"
   ]
  },
  {
   "cell_type": "code",
   "execution_count": 25,
   "metadata": {
    "colab": {
     "base_uri": "https://localhost:8080/"
    },
    "executionInfo": {
     "elapsed": 11,
     "status": "ok",
     "timestamp": 1633924991314,
     "user": {
      "displayName": "박영빈",
      "photoUrl": "https://lh3.googleusercontent.com/a/default-user=s64",
      "userId": "06406289282683365716"
     },
     "user_tz": -540
    },
    "id": "8EM-BCg9Qv2-",
    "outputId": "a6975aa0-92dd-4301-c4a0-81422e5d0bff"
   },
   "outputs": [
    {
     "name": "stdout",
     "output_type": "stream",
     "text": [
      "avg fit time: 0.001775836944580078\n",
      "avg score time: 0.00047883987426757815\n",
      "avg test score: 0.9666666666666668\n"
     ]
    }
   ],
   "source": [
    "cross_val = cross_validate(\n",
    "    estimator = base_model,\n",
    "    X=iris.data, y = iris.target,\n",
    "    cv=5\n",
    ")\n",
    "print(f\"avg fit time: {cross_val['fit_time'].mean()}\")\n",
    "print(f\"avg score time: {cross_val['score_time'].mean()}\")\n",
    "print(f\"avg test score: {cross_val['test_score'].mean()}\")"
   ]
  },
  {
   "cell_type": "code",
   "execution_count": 26,
   "metadata": {
    "colab": {
     "base_uri": "https://localhost:8080/"
    },
    "executionInfo": {
     "elapsed": 295,
     "status": "ok",
     "timestamp": 1633924994065,
     "user": {
      "displayName": "박영빈",
      "photoUrl": "https://lh3.googleusercontent.com/a/default-user=s64",
      "userId": "06406289282683365716"
     },
     "user_tz": -540
    },
    "id": "RF9GuakgQv2-",
    "outputId": "ffbb8c44-a1ce-4a07-fee0-2d5ca9d1bc0b"
   },
   "outputs": [
    {
     "name": "stdout",
     "output_type": "stream",
     "text": [
      "avg fit time: 0.02532787322998047\n",
      "avg score time: 0.002618741989135742\n",
      "avg test score: 0.9466666666666667\n"
     ]
    }
   ],
   "source": [
    "cross_val = cross_validate(\n",
    "    estimator = bagging_model,\n",
    "    X=iris.data, y = iris.target,\n",
    "    cv=5\n",
    ")\n",
    "print(f\"avg fit time: {cross_val['fit_time'].mean()}\")\n",
    "print(f\"avg score time: {cross_val['score_time'].mean()}\")\n",
    "print(f\"avg test score: {cross_val['test_score'].mean()}\")"
   ]
  },
  {
   "cell_type": "markdown",
   "metadata": {
    "id": "Ninof3DO_IO3"
   },
   "source": [
    "##### 와인 데이터"
   ]
  },
  {
   "cell_type": "code",
   "execution_count": null,
   "metadata": {},
   "outputs": [],
   "source": []
  },
  {
   "cell_type": "markdown",
   "metadata": {
    "id": "uVlALN6t-i3T"
   },
   "source": [
    "##### 유방암 데이터"
   ]
  },
  {
   "cell_type": "code",
   "execution_count": null,
   "metadata": {},
   "outputs": [],
   "source": []
  },
  {
   "cell_type": "markdown",
   "metadata": {
    "id": "G8m4pTeC_Y7Q"
   },
   "source": [
    "### Bagging을 사용한 회귀"
   ]
  },
  {
   "cell_type": "markdown",
   "metadata": {
    "id": "47h6mi6D_cu3"
   },
   "source": [
    "#### 데이터셋 불러오기"
   ]
  },
  {
   "cell_type": "code",
   "execution_count": 33,
   "metadata": {
    "executionInfo": {
     "elapsed": 6,
     "status": "ok",
     "timestamp": 1633925007715,
     "user": {
      "displayName": "박영빈",
      "photoUrl": "https://lh3.googleusercontent.com/a/default-user=s64",
      "userId": "06406289282683365716"
     },
     "user_tz": -540
    },
    "id": "UN7-vRcK_pKZ"
   },
   "outputs": [],
   "source": [
    "boston = load_boston()\n",
    "diabetes = load_diabetes()"
   ]
  },
  {
   "attachments": {},
   "cell_type": "markdown",
   "metadata": {
    "id": "lBSK7rhp_gMV"
   },
   "source": [
    "#### KNN + Bagging"
   ]
  },
  {
   "cell_type": "markdown",
   "metadata": {
    "id": "Ze7yqMOL_t34"
   },
   "source": [
    "##### 보스턴 주택 가격 데이터"
   ]
  },
  {
   "cell_type": "code",
   "execution_count": 34,
   "metadata": {
    "executionInfo": {
     "elapsed": 13,
     "status": "ok",
     "timestamp": 1633925009879,
     "user": {
      "displayName": "박영빈",
      "photoUrl": "https://lh3.googleusercontent.com/a/default-user=s64",
      "userId": "06406289282683365716"
     },
     "user_tz": -540
    },
    "id": "xmFbreJURUff"
   },
   "outputs": [],
   "source": [
    "base_model = make_pipeline(\n",
    "    StandardScaler(),\n",
    "    KNeighborsRegressor()\n",
    ")\n",
    "\n",
    "bagging_model = BaggingRegressor(base_model, n_estimators=10, max_samples=.5, max_features=.5)"
   ]
  },
  {
   "cell_type": "code",
   "execution_count": 35,
   "metadata": {
    "colab": {
     "base_uri": "https://localhost:8080/"
    },
    "executionInfo": {
     "elapsed": 310,
     "status": "ok",
     "timestamp": 1633925010644,
     "user": {
      "displayName": "박영빈",
      "photoUrl": "https://lh3.googleusercontent.com/a/default-user=s64",
      "userId": "06406289282683365716"
     },
     "user_tz": -540
    },
    "id": "oh8mpLJbRUfg",
    "outputId": "420b1e65-4b74-4190-a167-19357035f4fe"
   },
   "outputs": [
    {
     "name": "stdout",
     "output_type": "stream",
     "text": [
      "avg fit time: 0.0029560089111328124\n",
      "avg score time: 0.0027590274810791017\n",
      "avg test score: 0.47357748833823543\n"
     ]
    }
   ],
   "source": [
    "cross_val = cross_validate(\n",
    "    estimator = base_model,\n",
    "    X=boston.data, y = boston.target,\n",
    "    cv=5\n",
    ")\n",
    "print(f\"avg fit time: {cross_val['fit_time'].mean()}\")\n",
    "print(f\"avg score time: {cross_val['score_time'].mean()}\")\n",
    "print(f\"avg test score: {cross_val['test_score'].mean()}\")"
   ]
  },
  {
   "cell_type": "code",
   "execution_count": 36,
   "metadata": {
    "colab": {
     "base_uri": "https://localhost:8080/"
    },
    "executionInfo": {
     "elapsed": 265,
     "status": "ok",
     "timestamp": 1633853812418,
     "user": {
      "displayName": "박영빈",
      "photoUrl": "https://lh3.googleusercontent.com/a/default-user=s64",
      "userId": "06406289282683365716"
     },
     "user_tz": -540
    },
    "id": "DZyuHQL7RUfg",
    "outputId": "5d827c3f-a6d6-4e26-88a5-c021ad103ce9"
   },
   "outputs": [
    {
     "name": "stdout",
     "output_type": "stream",
     "text": [
      "avg fit time: 0.026327180862426757\n",
      "avg score time: 0.013280916213989257\n",
      "avg test score: 0.40078511188048366\n"
     ]
    }
   ],
   "source": [
    "cross_val = cross_validate(\n",
    "    estimator = bagging_model,\n",
    "    X=boston.data, y = boston.target,\n",
    "    cv=5\n",
    ")\n",
    "print(f\"avg fit time: {cross_val['fit_time'].mean()}\")\n",
    "print(f\"avg score time: {cross_val['score_time'].mean()}\")\n",
    "print(f\"avg test score: {cross_val['test_score'].mean()}\")"
   ]
  },
  {
   "cell_type": "markdown",
   "metadata": {
    "id": "vsCxrkMO_td0"
   },
   "source": [
    "##### 당뇨병 데이터"
   ]
  },
  {
   "cell_type": "code",
   "execution_count": null,
   "metadata": {},
   "outputs": [],
   "source": []
  },
  {
   "attachments": {},
   "cell_type": "markdown",
   "metadata": {
    "id": "UNWloxDa_fvn"
   },
   "source": [
    "#### SVR + Bagging"
   ]
  },
  {
   "cell_type": "markdown",
   "metadata": {
    "id": "NRDHG3iX_ygt"
   },
   "source": [
    "##### 보스턴 주택 가격 데이터"
   ]
  },
  {
   "cell_type": "code",
   "execution_count": 40,
   "metadata": {
    "executionInfo": {
     "elapsed": 4,
     "status": "ok",
     "timestamp": 1633925018297,
     "user": {
      "displayName": "박영빈",
      "photoUrl": "https://lh3.googleusercontent.com/a/default-user=s64",
      "userId": "06406289282683365716"
     },
     "user_tz": -540
    },
    "id": "vfQIoAPVR1aj"
   },
   "outputs": [],
   "source": [
    "base_model = make_pipeline(\n",
    "    StandardScaler(),\n",
    "    SVR()\n",
    ")\n",
    "\n",
    "bagging_model = BaggingRegressor(base_model, n_estimators=10, max_samples=.5, max_features=.5)"
   ]
  },
  {
   "cell_type": "code",
   "execution_count": 41,
   "metadata": {
    "colab": {
     "base_uri": "https://localhost:8080/"
    },
    "executionInfo": {
     "elapsed": 335,
     "status": "ok",
     "timestamp": 1633925020118,
     "user": {
      "displayName": "박영빈",
      "photoUrl": "https://lh3.googleusercontent.com/a/default-user=s64",
      "userId": "06406289282683365716"
     },
     "user_tz": -540
    },
    "id": "UpwXQx7KR1ak",
    "outputId": "ee41eeff-c05d-471c-fb71-92fbffe2ecf0"
   },
   "outputs": [
    {
     "name": "stdout",
     "output_type": "stream",
     "text": [
      "avg fit time: 0.016074991226196288\n",
      "avg score time: 0.005411005020141602\n",
      "avg test score: 0.17631266230186618\n"
     ]
    }
   ],
   "source": [
    "cross_val = cross_validate(\n",
    "    estimator = base_model,\n",
    "    X=boston.data, y = boston.target,\n",
    "    cv=5\n",
    ")\n",
    "print(f\"avg fit time: {cross_val['fit_time'].mean()}\")\n",
    "print(f\"avg score time: {cross_val['score_time'].mean()}\")\n",
    "print(f\"avg test score: {cross_val['test_score'].mean()}\")"
   ]
  },
  {
   "cell_type": "code",
   "execution_count": 42,
   "metadata": {
    "colab": {
     "base_uri": "https://localhost:8080/"
    },
    "executionInfo": {
     "elapsed": 426,
     "status": "ok",
     "timestamp": 1633925023747,
     "user": {
      "displayName": "박영빈",
      "photoUrl": "https://lh3.googleusercontent.com/a/default-user=s64",
      "userId": "06406289282683365716"
     },
     "user_tz": -540
    },
    "id": "NnAh-5eNR1al",
    "outputId": "22d4274a-f3d4-4ccc-89a1-4ea85dc51fb4"
   },
   "outputs": [
    {
     "name": "stdout",
     "output_type": "stream",
     "text": [
      "avg fit time: 0.05120940208435058\n",
      "avg score time: 0.018110084533691406\n",
      "avg test score: 0.205743862336079\n"
     ]
    }
   ],
   "source": [
    "cross_val = cross_validate(\n",
    "    estimator = bagging_model,\n",
    "    X=boston.data, y = boston.target,\n",
    "    cv=5\n",
    ")\n",
    "print(f\"avg fit time: {cross_val['fit_time'].mean()}\")\n",
    "print(f\"avg score time: {cross_val['score_time'].mean()}\")\n",
    "print(f\"avg test score: {cross_val['test_score'].mean()}\")"
   ]
  },
  {
   "cell_type": "markdown",
   "metadata": {
    "id": "dB98AXg7_004"
   },
   "source": [
    "##### 당뇨병 데이터"
   ]
  },
  {
   "cell_type": "code",
   "execution_count": null,
   "metadata": {},
   "outputs": [],
   "source": []
  },
  {
   "attachments": {},
   "cell_type": "markdown",
   "metadata": {
    "id": "Ffge42tG_fFc"
   },
   "source": [
    "#### Decision Tree + Bagging"
   ]
  },
  {
   "cell_type": "markdown",
   "metadata": {
    "id": "MWWTfD6T_44c"
   },
   "source": [
    "##### 보스턴 주택 가격 데이터"
   ]
  },
  {
   "cell_type": "code",
   "execution_count": 46,
   "metadata": {
    "executionInfo": {
     "elapsed": 2,
     "status": "ok",
     "timestamp": 1633925033278,
     "user": {
      "displayName": "박영빈",
      "photoUrl": "https://lh3.googleusercontent.com/a/default-user=s64",
      "userId": "06406289282683365716"
     },
     "user_tz": -540
    },
    "id": "vsweWJ5JSQ3-"
   },
   "outputs": [],
   "source": [
    "base_model = make_pipeline(\n",
    "    StandardScaler(),\n",
    "    DecisionTreeRegressor()\n",
    ")\n",
    "\n",
    "bagging_model = BaggingRegressor(base_model, n_estimators=10, max_samples=.5, max_features=.5)"
   ]
  },
  {
   "cell_type": "code",
   "execution_count": 47,
   "metadata": {
    "colab": {
     "base_uri": "https://localhost:8080/"
    },
    "executionInfo": {
     "elapsed": 280,
     "status": "ok",
     "timestamp": 1633925035790,
     "user": {
      "displayName": "박영빈",
      "photoUrl": "https://lh3.googleusercontent.com/a/default-user=s64",
      "userId": "06406289282683365716"
     },
     "user_tz": -540
    },
    "id": "2VCEj7H2SQ3_",
    "outputId": "41c7af2f-acbf-42ad-93a4-6b269d9f2196"
   },
   "outputs": [
    {
     "name": "stdout",
     "output_type": "stream",
     "text": [
      "avg fit time: 0.005870914459228516\n",
      "avg score time: 0.0009247303009033203\n",
      "avg test score: 0.07210322815642715\n"
     ]
    }
   ],
   "source": [
    "cross_val = cross_validate(\n",
    "    estimator = base_model,\n",
    "    X=boston.data, y = boston.target,\n",
    "    cv=5\n",
    ")\n",
    "print(f\"avg fit time: {cross_val['fit_time'].mean()}\")\n",
    "print(f\"avg score time: {cross_val['score_time'].mean()}\")\n",
    "print(f\"avg test score: {cross_val['test_score'].mean()}\")"
   ]
  },
  {
   "cell_type": "code",
   "execution_count": 48,
   "metadata": {
    "colab": {
     "base_uri": "https://localhost:8080/"
    },
    "executionInfo": {
     "elapsed": 16,
     "status": "ok",
     "timestamp": 1633925037079,
     "user": {
      "displayName": "박영빈",
      "photoUrl": "https://lh3.googleusercontent.com/a/default-user=s64",
      "userId": "06406289282683365716"
     },
     "user_tz": -540
    },
    "id": "22Jypd5mSQ4A",
    "outputId": "114ab360-4dfd-499b-9df0-f120bb28517f"
   },
   "outputs": [
    {
     "name": "stdout",
     "output_type": "stream",
     "text": [
      "avg fit time: 0.04179878234863281\n",
      "avg score time: 0.0030462265014648436\n",
      "avg test score: 0.45103618435822196\n"
     ]
    }
   ],
   "source": [
    "cross_val = cross_validate(\n",
    "    estimator = bagging_model,\n",
    "    X=boston.data, y = boston.target,\n",
    "    cv=5\n",
    ")\n",
    "print(f\"avg fit time: {cross_val['fit_time'].mean()}\")\n",
    "print(f\"avg score time: {cross_val['score_time'].mean()}\")\n",
    "print(f\"avg test score: {cross_val['test_score'].mean()}\")"
   ]
  },
  {
   "cell_type": "markdown",
   "metadata": {
    "id": "djcuGIS-_4kG"
   },
   "source": [
    "##### 당뇨병 데이터"
   ]
  },
  {
   "cell_type": "code",
   "execution_count": null,
   "metadata": {},
   "outputs": [],
   "source": []
  }
 ],
 "metadata": {
  "colab": {
   "collapsed_sections": [],
   "name": "9 앙상블(Ensemble).ipynb",
   "provenance": [
    {
     "file_id": "1Li8YxdE0rIZdtdo_EkyZ0YZp1ZI8WT0q",
     "timestamp": 1633852190932
    }
   ]
  },
  "kernelspec": {
   "display_name": "base",
   "language": "python",
   "name": "python3"
  },
  "language_info": {
   "codemirror_mode": {
    "name": "ipython",
    "version": 3
   },
   "file_extension": ".py",
   "mimetype": "text/x-python",
   "name": "python",
   "nbconvert_exporter": "python",
   "pygments_lexer": "ipython3",
   "version": "3.9.13 (main, Aug 25 2022, 18:29:29) \n[Clang 12.0.0 ]"
  },
  "vscode": {
   "interpreter": {
    "hash": "30baee32c445b56b5bebd971439750611d62fad669ff493377e475030ea087db"
   }
  }
 },
 "nbformat": 4,
 "nbformat_minor": 4
}
